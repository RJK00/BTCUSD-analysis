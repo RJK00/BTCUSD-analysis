{
 "cells": [
  {
   "cell_type": "code",
   "execution_count": null,
   "metadata": {},
   "outputs": [
    {
     "ename": "",
     "evalue": "",
     "output_type": "error",
     "traceback": [
      "\u001b[1;31mJupyter cannot be started. Error attempting to locate Jupyter: Running cells with 'Python 3.8.9 64-bit' requires jupyter and notebook package.\n",
      "Run the following command to install 'jupyter and notebook' into the Python environment. \n",
      "Command: 'python -m pip install jupyter notebook -U\n",
      "or\n",
      "conda install jupyter notebook -U'\n",
      "Click <a href='https://aka.ms/installJupyterForVSCode'>here</a> for more info."
     ]
    }
   ],
   "source": [
    "from datetime import datetime\n",
    "import os\n",
    "import json\n",
    "import requests\n",
    "import hmac\n",
    "import pandas as pd\n",
    "import plotly.graph_objects as go\n",
    "import matplotlib.pyplot as plt\n",
    "import numpy as np\n",
    "import scipy.stats as st\n",
    "from scipy.stats import linregress\n",
    "import time\n",
    "\n",
    "\n"
   ]
  },
  {
   "cell_type": "code",
   "execution_count": null,
   "metadata": {},
   "outputs": [
    {
     "ename": "",
     "evalue": "",
     "output_type": "error",
     "traceback": [
      "\u001b[1;31mJupyter cannot be started. Error attempting to locate Jupyter: Running cells with 'Python 3.8.9 64-bit' requires jupyter and notebook package.\n",
      "Run the following command to install 'jupyter and notebook' into the Python environment. \n",
      "Command: 'python -m pip install jupyter notebook -U\n",
      "or\n",
      "conda install jupyter notebook -U'\n",
      "Click <a href='https://aka.ms/installJupyterForVSCode'>here</a> for more info."
     ]
    }
   ],
   "source": [
    "file = \"df_2022_hr_capped.csv\"\n",
    "\n",
    "df_2022_hr = pd.read_csv(file)\n",
    "df_2022_hr"
   ]
  },
  {
   "cell_type": "code",
   "execution_count": null,
   "metadata": {},
   "outputs": [
    {
     "ename": "",
     "evalue": "",
     "output_type": "error",
     "traceback": [
      "\u001b[1;31mJupyter cannot be started. Error attempting to locate Jupyter: Running cells with 'Python 3.8.9 64-bit' requires jupyter and notebook package.\n",
      "Run the following command to install 'jupyter and notebook' into the Python environment. \n",
      "Command: 'python -m pip install jupyter notebook -U\n",
      "or\n",
      "conda install jupyter notebook -U'\n",
      "Click <a href='https://aka.ms/installJupyterForVSCode'>here</a> for more info."
     ]
    }
   ],
   "source": [
    "# create a graph object\n",
    "fig = go.Figure()\n",
    "\n",
    "#set up layout\n",
    "fig.update_layout(\n",
    "    title={\n",
    "        'text' : \"BTCUSD\",\n",
    "        \"x\" : 0.5,\n",
    "        'xanchor': 'center'\n",
    "    },\n",
    "    xaxis_title=\"Date\",\n",
    "    yaxis_title='Price',\n",
    "    xaxis_rangeslider_visible=False\n",
    ")\n",
    "\n",
    "#add candletstick\n",
    "fig.add_trace(\n",
    "    go.Candlestick(\n",
    "        x=df_2022_hr['date'],\n",
    "        open=df_2022_hr['open'],\n",
    "        high=df_2022_hr['high'],\n",
    "        low=df_2022_hr['low'],\n",
    "        close=df_2022_hr['close'],\n",
    "        name=\"BTCUSD\"\n",
    "    )\n",
    ")\n",
    "\n",
    "\n",
    "fig.add_trace(\n",
    "    go.Scatter(x=df_2022_hr['date'], y=df_2022_hr['SMA'], name=\"SMA(48)\")\n",
    ")\n",
    "\n",
    "\n",
    "fig.show()"
   ]
  },
  {
   "cell_type": "code",
   "execution_count": null,
   "metadata": {},
   "outputs": [
    {
     "ename": "",
     "evalue": "",
     "output_type": "error",
     "traceback": [
      "\u001b[1;31mJupyter cannot be started. Error attempting to locate Jupyter: Running cells with 'Python 3.8.9 64-bit' requires jupyter and notebook package.\n",
      "Run the following command to install 'jupyter and notebook' into the Python environment. \n",
      "Command: 'python -m pip install jupyter notebook -U\n",
      "or\n",
      "conda install jupyter notebook -U'\n",
      "Click <a href='https://aka.ms/installJupyterForVSCode'>here</a> for more info."
     ]
    }
   ],
   "source": [
    "#sample visual for liquidation levels: need EMA does not work with SMA\n",
    "Fig2 = go.Figure()\n",
    "\n",
    "#set up layout\n",
    "Fig2.update_layout(\n",
    "    title={\n",
    "        'text' : \"BTCUSD\",\n",
    "        \"x\" : 0.5,\n",
    "        'xanchor': 'center'\n",
    "    },\n",
    "    xaxis_title=\"Date\",\n",
    "    yaxis_title='Price',\n",
    "    xaxis_rangeslider_visible=False\n",
    ")\n",
    "\n",
    "#add candletstick\n",
    "Fig2.add_trace(\n",
    "    go.Candlestick(\n",
    "        x=df_2022_hr['date'],\n",
    "        open=df_2022_hr['open'],\n",
    "        high=df_2022_hr['high'],\n",
    "        low=df_2022_hr['low'],\n",
    "        close=df_2022_hr['close'],\n",
    "        name=\"BTCUSD\"\n",
    "    )\n",
    ")\n",
    "\n",
    "\n",
    "Fig2.add_trace(\n",
    "    go.Scatter(x=df_2022_hr['date'], y=df_2022_hr['25x_liq_long'], name=\"25x Rolling Liqs(long)\"),\n",
    ")\n",
    "\n",
    "Fig2.add_trace(\n",
    "  go.Scatter(x=df_2022_hr['date'], y=df_2022_hr['25x_liq_short'], name=\"25x Rolling Liqs(short)\")\n",
    ")\n",
    "\n",
    "Fig2.show()\n"
   ]
  },
  {
   "cell_type": "code",
   "execution_count": null,
   "metadata": {},
   "outputs": [
    {
     "ename": "",
     "evalue": "",
     "output_type": "error",
     "traceback": [
      "\u001b[1;31mJupyter cannot be started. Error attempting to locate Jupyter: Running cells with 'Python 3.8.9 64-bit' requires jupyter and notebook package.\n",
      "Run the following command to install 'jupyter and notebook' into the Python environment. \n",
      "Command: 'python -m pip install jupyter notebook -U\n",
      "or\n",
      "conda install jupyter notebook -U'\n",
      "Click <a href='https://aka.ms/installJupyterForVSCode'>here</a> for more info."
     ]
    }
   ],
   "source": [
    "%matplotlib notebook\n",
    "import pandas_datareader as pdr\n",
    "import datetime as dt\n",
    "import seaborn as sns\n",
    "%matplotlib inline\n",
    "\n",
    "df['hour']=df.date.dt.hour\n",
    "df['hour']=df['hour'].astype(float)\n",
    "df.dtypes\n",
    "\n",
    "data = df.set_index('date')\n",
    "data\n",
    "\n",
    "high_low = data['high']-data['low']\n",
    "high_cp = np.abs(data['high']-data['close'].shift())\n",
    "low_cp = np.abs(data['low']-data['close'].shift())\n",
    "\n",
    "df_volatility = pd.concat([high_low, high_cp, low_cp], axis =1)\n",
    "\n",
    "#calc true range\n",
    "true_range = np.max(df_volatility, axis =1)\n",
    "\n",
    "#calc avg true range\n",
    "average_true_range = true_range.rolling(14).mean()\n",
    "\n",
    "data['average_true_range']=average_true_range\n",
    "data\n",
    "\n",
    "#plot chart\n",
    "fig, ax = plt.subplots()\n",
    "average_true_range.plot(ax=ax)\n",
    "ax2 = data['close'].plot(ax=ax, secondary_y=True, alpha=.3)\n",
    "ax.set_ylabel('ATR')\n",
    "ax2.set_ylabel('Price')\n",
    "\n",
    "plt.axvspan(datetime(2022, 7, 1, 0), datetime(2022,7, 1, 7), color ='lightgray', alpha=0.5)\n",
    "plt.axvspan(datetime(2022,7,1,8), datetime(2022,7,1,16), color ='lightblue', alpha=0.5)\n",
    "plt.axvspan(datetime(2022,7,1,17), datetime(2022,7,2,0), color ='lightcoral', alpha=0.5)\n",
    "plt.tight_layout()\n",
    "\n",
    "average_true_range_scatter = data['average_true_range']\n",
    "hour_scatter=data['hour']\n",
    "\n",
    "x_values = hour_scatter\n",
    "y_values = average_true_range_scatter\n",
    "(slope, intercept, rvalue, pvalue, stderr)=linregress(x_values,y_values)\n",
    "regress_values = x_values * slope + intercept\n",
    "line_eq = \"y= \" + str(round(slope,2)) + \"x +\" + str(round(intercept, 2))\n",
    "\n",
    "plt.scatter(x_values,y_values)\n",
    "plt.plot(x_values, regress_values, \"r-\")\n",
    "\n",
    "plt.title(\"Is there a correlation between volatility and time of day?\")\n",
    "plt.xlabel(\"time of day\")\n",
    "plt.ylabel(\"ATR\")\n",
    "plt.show()\n",
    "\n",
    "volume_scatter = data['volume']\n",
    "hour_scatter=data['hour']\n",
    "\n",
    "x_axis = hour_scatter\n",
    "y_axis = volume_scatter\n",
    "\n",
    "plt.bar(x_axis, y_axis, color =\"b\", align ='center', width = .5)\n",
    "\n",
    "#plt.rcParams[\"figure.figsize\"] = [50, 50]\n",
    "plt.title(\"What time of day does the majority of trading occur?\")\n",
    "plt.xlabel(\"time of day\")\n",
    "plt.ylabel(\"Volume (100's MM)\")\n",
    "plt.tight_layout()\n",
    "\n",
    "plt.show()\n"
   ]
  }
 ],
 "metadata": {
  "kernelspec": {
   "display_name": "Python 3.8.9 64-bit",
   "language": "python",
   "name": "python3"
  },
  "language_info": {
   "codemirror_mode": {
    "name": "ipython",
    "version": 3
   },
   "file_extension": ".py",
   "mimetype": "text/x-python",
   "name": "python",
   "nbconvert_exporter": "python",
   "pygments_lexer": "ipython3",
   "version": "3.8.9"
  },
  "orig_nbformat": 4,
  "vscode": {
   "interpreter": {
    "hash": "31f2aee4e71d21fbe5cf8b01ff0e069b9275f58929596ceb00d14d90e3e16cd6"
   }
  }
 },
 "nbformat": 4,
 "nbformat_minor": 2
}
